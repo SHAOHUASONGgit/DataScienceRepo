{
 "cells": [
  {
   "cell_type": "code",
   "execution_count": 35,
   "metadata": {},
   "outputs": [],
   "source": [
    "import numpy as np\n",
    "import matplotlib.pyplot as plt\n",
    "import math\n",
    "\n",
    "'''\n",
    "AGNES层次聚类，采用自底向上聚合策略的算法。先将数据集的每个样本看做一个初始的聚类簇，然后算法运行的每一步中找出距离最近的两个\n",
    "类簇进行合并，该过程不断重复，直至达到预设的聚类簇的个数。\n",
    "'''\n",
    "#计算两个向量之间的欧式距离\n",
    "def calDist(X1 , X2 ):\n",
    "    sum = 0\n",
    "    for x1 , x2 in zip(X1 , X2):     #对象元素打包成元组\n",
    "        sum += (x1 - x2)**2\n",
    "    sum = math.sqrt(sum)\n",
    "    return sum\n",
    "def updateClusterDis(dataset,dist,sets,cluster_i):\n",
    "    i=0\n",
    "    while i<len(sets):\n",
    "        dis = []\n",
    "        for e in sets[i]:\n",
    "            for ele in sets[cluster_i]:\n",
    "                dis.append(calDist(dataset[e],dataset[ele]))\n",
    "        dist[i,cluster_i]=max(dis)\n",
    "        dist[cluster_i,i]=max(dis)\n",
    "        i+=1\n",
    "    #将每个簇和自身距离设为无穷大\n",
    "    dist[np.diag_indices_from(dist)] = float('inf')\n",
    "    return dist\n",
    "def agens(dataset,k):\n",
    "#初始化聚类簇:让每一个点都代表，一个类簇\n",
    "    sets=[]\n",
    "    for i in range(0,len(dataset)):\n",
    "        sets.append({i})\n",
    "#初始化类簇间距离的矩阵\n",
    "    delta = np.array(dataset[0] - dataset)\n",
    "    for e in dataset[1:, :]:\n",
    "        delta = np.vstack((delta, (e - dataset)))  #返回结果为numpy的数组\n",
    "    dist = np.sqrt(np.sum(np.square(delta), axis=1))\n",
    "    dist = np.reshape(dist, (len(dataset), len(dataset))) #切割矩阵\n",
    "    dist[np.diag_indices_from(dist)]=float('inf')  \n",
    "\n",
    "    while len(sets)>k:\n",
    "        locations=np.argwhere(dist==np.min(dist))\n",
    "        #将集合合并，删除被合并的集合\n",
    "        locations=locations[locations[:,0]<locations[:,1]]\n",
    "        cluster_i=locations[0,0]\n",
    "        cluster_j=locations[0,1]\n",
    "        for e in sets[cluster_j]:\n",
    "            sets[cluster_i].add(e)\n",
    "        del sets[cluster_j]\n",
    "        #删除被合并的簇，distance矩阵对应的行和列，并更新距离矩阵\n",
    "        dist=np.delete(dist,cluster_j,axis=0)#删除对应列\n",
    "        dist=np.delete(dist,cluster_j,axis=1)#删除对应行\n",
    "        dist=updateClusterDis(dataset,dist,sets,cluster_i)\n",
    "    print(sets)\n",
    "    return sets\n"
   ]
  },
  {
   "cell_type": "code",
   "execution_count": 34,
   "metadata": {},
   "outputs": [
    {
     "name": "stdout",
     "output_type": "stream",
     "text": [
      "[{0, 1, 2, 3, 4, 5, 6, 7, 8, 9, 11, 12, 19}, {10}, {17, 13, 14}, {16, 18, 15}]\n"
     ]
    },
    {
     "data": {
      "image/png": "[encoded data removed]",
      "text/plain": [
       "<Figure size 432x288 with 1 Axes>"
      ]
     },
     "metadata": {
      "needs_background": "light"
     },
     "output_type": "display_data"
    }
   ],
   "source": [
    "dataset=np.loadtxt('data.txt')\n",
    "results=agens(dataset,4)\n",
    "\n",
    "for r  in  results:\n",
    "    drawpoints = []\n",
    "    for points in r:\n",
    "        drawpoints.append(points)\n",
    "    drawdata=dataset[drawpoints]\n",
    "    plt.scatter(drawdata[:, 0], drawdata[:, 1], marker='o')\n",
    "\n",
    "plt.show()\n"
   ]
  },
  {
   "cell_type": "code",
   "execution_count": null,
   "metadata": {},
   "outputs": [],
   "source": []
  },
  {
   "cell_type": "code",
   "execution_count": null,
   "metadata": {},
   "outputs": [],
   "source": []
  }
 ],
 "metadata": {
  "kernelspec": {
   "display_name": "Python 3",
   "language": "python",
   "name": "python3"
  },
  "language_info": {
   "codemirror_mode": {
    "name": "ipython",
    "version": 3
   },
   "file_extension": ".py",
   "mimetype": "text/x-python",
   "name": "python",
   "nbconvert_exporter": "python",
   "pygments_lexer": "ipython3",
   "version": "3.8.8"
  }
 },
 "nbformat": 4,
 "nbformat_minor": 4
}

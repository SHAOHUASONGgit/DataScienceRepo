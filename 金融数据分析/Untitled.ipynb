{
 "cells": [
  {
   "cell_type": "code",
   "execution_count": 94,
   "id": "c20fa1f8",
   "metadata": {},
   "outputs": [],
   "source": [
    "import numpy as np\n",
    "from numpy.random import randn\n",
    "from numpy.random import randint"
   ]
  },
  {
   "cell_type": "markdown",
   "id": "70e4f0cc",
   "metadata": {},
   "source": [
    "### 作业1 找出数组所有不同行"
   ]
  },
  {
   "cell_type": "code",
   "execution_count": 81,
   "id": "989f292a",
   "metadata": {},
   "outputs": [
    {
     "name": "stdout",
     "output_type": "stream",
     "text": [
      "dict_values([array([1., 2., 3.]), array([4., 5., 6.])])\n",
      "dict_values([array([1., 2., 3.]), array([4., 5., 6.]), array([7., 8., 9.]), array([10., 11., 12.])])\n"
     ]
    }
   ],
   "source": [
    "def get_keys(d, value):\n",
    "    return [k for k,v in d.items() if all(v == value)]\n",
    "\n",
    "def d_array(x):\n",
    "    a=0\n",
    "    d=dict()\n",
    "    for i in range(len(x)):\n",
    "        if len(get_keys(d,x[i]))==0:\n",
    "            d[a]=x[i]\n",
    "            a=a+1\n",
    "    return d.values()\n",
    "\n",
    "a = np.array([[1., 2., 3.], [4., 5., 6.],[1., 2., 3.], [4., 5., 6.]])\n",
    "b = np.array([[1., 2., 3.], [4., 5., 6.],[7., 8., 9.], [4., 5., 6.],[10,11,12]])\n",
    "print(d_array(a))\n",
    "print(d_array(b))"
   ]
  },
  {
   "cell_type": "markdown",
   "id": "c0339fd7",
   "metadata": {},
   "source": [
    "### 作业2"
   ]
  },
  {
   "cell_type": "code",
   "execution_count": 90,
   "id": "52f97012",
   "metadata": {},
   "outputs": [],
   "source": [
    "def Create_Z(T):\n",
    "    t=randn(T)\n",
    "    print(t)\n",
    "    new_t=[]\n",
    "    for i in range(T-2):\n",
    "        new_t.append(t[i:i+3])\n",
    "    new_t=np.array(new_t).reshape(T-2,3)\n",
    "    return new_t\n",
    "def Calculation(Z):\n",
    "    Z=Z.T\n",
    "    for i in range(len(Z)):\n",
    "        print(f'第{i+1}列的样本均值：',np.mean(Z[i]),'方差：',np.var(Z[i]),'协方差：',np.cov(Z[i]))"
   ]
  },
  {
   "cell_type": "markdown",
   "id": "613c9128",
   "metadata": {},
   "source": [
    "(a)"
   ]
  },
  {
   "cell_type": "code",
   "execution_count": 92,
   "id": "0f3c4588",
   "metadata": {},
   "outputs": [
    {
     "name": "stdout",
     "output_type": "stream",
     "text": [
      "[ 2.01907465  2.34423072  0.24868562 -0.23386229 -0.01614449  1.24730766]\n",
      "[[ 2.01907465  2.34423072  0.24868562]\n",
      " [ 2.34423072  0.24868562 -0.23386229]\n",
      " [ 0.24868562 -0.23386229 -0.01614449]\n",
      " [-0.23386229 -0.01614449  1.24730766]]\n"
     ]
    }
   ],
   "source": [
    "##a\n",
    "Z=Create_Z(6)"
   ]
  },
  {
   "cell_type": "markdown",
   "id": "3832711d",
   "metadata": {},
   "source": [
    "(b)"
   ]
  },
  {
   "cell_type": "code",
   "execution_count": 93,
   "id": "d9920215",
   "metadata": {},
   "outputs": [
    {
     "name": "stdout",
     "output_type": "stream",
     "text": [
      "第1列的样本均值： 1.0945321733262483 方差： 1.2241533773027649 协方差： 1.6322045030703531\n",
      "第2列的样本均值： 0.5857273873351759 方差： 1.0599770329685139 协方差： 1.4133027106246854\n",
      "第3列的样本均值： 0.3114966219625984 方差： 0.3211131414429337 协方差： 0.4281508552572449\n"
     ]
    }
   ],
   "source": [
    "##b\n",
    "Calculation(Z)"
   ]
  },
  {
   "cell_type": "markdown",
   "id": "deec0d1d",
   "metadata": {},
   "source": [
    "### 作业3"
   ]
  },
  {
   "cell_type": "markdown",
   "id": "60110c30",
   "metadata": {},
   "source": [
    "(a)"
   ]
  },
  {
   "cell_type": "code",
   "execution_count": 176,
   "id": "805fa184",
   "metadata": {},
   "outputs": [
    {
     "name": "stdout",
     "output_type": "stream",
     "text": [
      "原始数组 [[0 2 1 ... 1 2 1]\n",
      " [2 1 2 ... 0 1 0]\n",
      " [1 2 0 ... 0 0 0]\n",
      " ...\n",
      " [1 1 1 ... 1 1 0]\n",
      " [1 2 1 ... 0 2 1]\n",
      " [0 2 2 ... 1 1 2]]\n",
      "第一列递增 [[2 0 0 ... 1 0 2]\n",
      " [2 0 1 ... 1 2 0]\n",
      " [2 0 1 ... 0 2 0]\n",
      " ...\n",
      " [0 2 2 ... 0 0 0]\n",
      " [0 0 1 ... 2 0 2]\n",
      " [0 2 1 ... 1 2 1]]\n",
      "第二列递减 [[2 0 0 ... 1 0 2]\n",
      " [2 0 1 ... 0 0 0]\n",
      " [2 0 0 ... 1 2 1]\n",
      " ...\n",
      " [0 2 1 ... 2 0 1]\n",
      " [0 2 0 ... 1 2 2]\n",
      " [0 2 1 ... 1 2 1]]\n"
     ]
    }
   ],
   "source": [
    "#a\n",
    "x=[]\n",
    "for i in range(50000):\n",
    "    x.append(randint(0,3))\n",
    "x=np.array(x).reshape(1000,50)\n",
    "print('原始数组',x)\n",
    "##第一列递增\n",
    "a = x[np.argsort(x[:,0])]\n",
    "a=-a\n",
    "b=-a[np.argsort(a[:,0])]\n",
    "print('第一列递增',b)\n",
    "##第二列递减\n",
    "c=b[np.argsort(b[:,1])]\n",
    "print('第二列递减',c)"
   ]
  },
  {
   "cell_type": "markdown",
   "id": "8f428887",
   "metadata": {},
   "source": [
    "(b)"
   ]
  },
  {
   "cell_type": "code",
   "execution_count": 370,
   "id": "dc99042c",
   "metadata": {},
   "outputs": [],
   "source": [
    "##b\n",
    "def sortbycols(data,cols,descending):\n",
    "    c=[]\n",
    "    if type(cols)==int:\n",
    "        c.append(cols)\n",
    "    else :\n",
    "        c=c+cols\n",
    "    d=[]\n",
    "    if type(descending)==bool:\n",
    "        d.append(descending)\n",
    "    else :\n",
    "        d=d+descending\n",
    "    if len(d)==1:\n",
    "        if d[0]==True:\n",
    "             for i in c:\n",
    "                    data = data[np.argsort(data[:,i])]\n",
    "    elif len(d)==len(c):\n",
    "        for i in range(len(c)):\n",
    "            if d[i]==True:\n",
    "                data = data[np.argsort(data[:,c[i]])]\n",
    "    return data"
   ]
  },
  {
   "cell_type": "code",
   "execution_count": 372,
   "id": "fd1ccf54",
   "metadata": {},
   "outputs": [
    {
     "name": "stdout",
     "output_type": "stream",
     "text": [
      "[[1. 2. 3.]\n",
      " [4. 5. 6.]\n",
      " [3. 9. 3.]\n",
      " [4. 5. 6.]]\n",
      "[[1. 2. 3.]\n",
      " [3. 9. 3.]\n",
      " [4. 5. 6.]\n",
      " [4. 5. 6.]]\n",
      "[[1. 2. 3.]\n",
      " [3. 9. 3.]\n",
      " [4. 5. 6.]\n",
      " [4. 5. 6.]]\n",
      "[[1. 2. 3.]\n",
      " [4. 5. 6.]\n",
      " [3. 9. 3.]\n",
      " [4. 5. 6.]]\n",
      "[[1. 2. 3.]\n",
      " [4. 5. 6.]\n",
      " [4. 5. 6.]\n",
      " [3. 9. 3.]]\n"
     ]
    }
   ],
   "source": [
    "x = np.array([[1., 2., 3.], [4., 5., 6.],[3., 9., 3.], [4., 5., 6.]])\n",
    "print(sortbycols(x,0,False))\n",
    "print(sortbycols(x,0,True))\n",
    "print(sortbycols(x,[0,1],[True,False]))\n",
    "print(sortbycols(x,[0,1],[False,False]))\n",
    "print(sortbycols(x,[0,1],[False,True]))"
   ]
  },
  {
   "cell_type": "markdown",
   "id": "03649b6b",
   "metadata": {},
   "source": [
    "### 作业4"
   ]
  },
  {
   "cell_type": "code",
   "execution_count": 374,
   "id": "bf9d89e2",
   "metadata": {},
   "outputs": [],
   "source": [
    "def fv(rate,nper,pmt,pv):\n",
    "    return np.fv(rate,nper,pmt,pv)\n",
    "##rate:存款/贷款每期的利率\n",
    "##nper：存款/贷款期数\n",
    "##pmt：存款/贷款每期支付的金额\n",
    "##fv：存款/贷款终值，如果是贷款，终值为0；如果是存款，终值为本息"
   ]
  },
  {
   "cell_type": "code",
   "execution_count": 375,
   "id": "b22ea4d4",
   "metadata": {},
   "outputs": [],
   "source": [
    "def pv(rate,nper,pmt,fv):\n",
    "    return np.pv(rate,nper,pmt,fv)\n",
    "##rate:存款/贷款每期的利率\n",
    "##nper：存款/贷款期数\n",
    "##pmt：存款/贷款每期支付的金额\n",
    "##fv：存款/贷款终值，如果是贷款，终值为0；如果是存款，终值为本息和"
   ]
  },
  {
   "cell_type": "code",
   "execution_count": 378,
   "id": "d35a8feb",
   "metadata": {},
   "outputs": [],
   "source": [
    "def nper(rate,pmt,pv,fv):\n",
    "    return np.nper(rate,pmt,pv,fv)\n",
    "##rate:存款/贷款每期的利率\n",
    "##pmt：存款/贷款每期支付的金额\n",
    "##pv：存款/贷款金额\n",
    "##fv：存款/贷款终值，如果是贷款，终值为0；如果是存款，终值为本息和"
   ]
  },
  {
   "cell_type": "code",
   "execution_count": 380,
   "id": "2a9a7fe0",
   "metadata": {},
   "outputs": [],
   "source": [
    "def pmt(rate,nper,pv):\n",
    "    return np.pmt(rate,nper,pv)\n",
    "##rate:存款/贷款每期的利率\n",
    "##nper：存款/贷款期数\n",
    "##pv：存款/贷款金额"
   ]
  },
  {
   "cell_type": "code",
   "execution_count": null,
   "id": "8a783cf5",
   "metadata": {},
   "outputs": [],
   "source": [
    "def rate(nper, pmt, pv, fv):\n",
    "    return np.rate(nper, pmt, pv, fv)\n",
    "##nper:贷款年数\n",
    "##pmt:每期投入\n",
    "##pv:现值\n",
    "##fv:终值"
   ]
  }
 ],
 "metadata": {
  "kernelspec": {
   "display_name": "Python 3",
   "language": "python",
   "name": "python3"
  },
  "language_info": {
   "codemirror_mode": {
    "name": "ipython",
    "version": 3
   },
   "file_extension": ".py",
   "mimetype": "text/x-python",
   "name": "python",
   "nbconvert_exporter": "python",
   "pygments_lexer": "ipython3",
   "version": "3.8.8"
  }
 },
 "nbformat": 4,
 "nbformat_minor": 5
}

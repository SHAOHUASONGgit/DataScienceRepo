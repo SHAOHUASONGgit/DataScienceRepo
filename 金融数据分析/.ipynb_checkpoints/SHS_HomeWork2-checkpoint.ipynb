{
 "cells": [
  {
   "cell_type": "markdown",
   "id": "9d82d9b7",
   "metadata": {},
   "source": [
    "## 向量枚举"
   ]
  },
  {
   "cell_type": "code",
   "execution_count": 1,
   "id": "59a843da",
   "metadata": {},
   "outputs": [],
   "source": [
    "import numpy as np"
   ]
  },
  {
   "cell_type": "code",
   "execution_count": 2,
   "id": "1fe55491",
   "metadata": {},
   "outputs": [],
   "source": [
    "def findUnique(inputMat):\n",
    "    output = []\n",
    "    for row in range(inputMat.shape[0]):\n",
    "        presentRow = list(inputMat[row])\n",
    "        if presentRow not in output:\n",
    "            output.append(presentRow)\n",
    "    output = np.array(output)\n",
    "    return output"
   ]
  },
  {
   "cell_type": "code",
   "execution_count": 3,
   "id": "0ac0ad59",
   "metadata": {},
   "outputs": [
    {
     "name": "stdout",
     "output_type": "stream",
     "text": [
      "[[1. 2. 3.]\n",
      " [4. 5. 6.]]\n"
     ]
    }
   ],
   "source": [
    "x = np.array([[1., 2., 3.], [4., 5., 6.],[1., 2., 3.], [4., 5., 6.]])\n",
    "print(findUnique(x))"
   ]
  },
  {
   "cell_type": "markdown",
   "id": "3f184243",
   "metadata": {},
   "source": [
    "## 数组生成与统计"
   ]
  },
  {
   "cell_type": "code",
   "execution_count": 4,
   "id": "e22a1669",
   "metadata": {},
   "outputs": [],
   "source": [
    "def generateStats(T):\n",
    "    data = np.random.randn(T)\n",
    "    output = []\n",
    "    for startIndex in range(T - 3 + 1):\n",
    "        output.append(data[startIndex: startIndex + 3])\n",
    "    output = np.array(output)\n",
    "    return output\n",
    "\n",
    "def calculateStats(intputMat):\n",
    "    matMean = np.mean(intputMat, axis=0)\n",
    "    matVar = np.var(intputMat, axis=0)\n",
    "    matCovar = []\n",
    "    for firstCol in range(3):\n",
    "        for secondCol in range(3):\n",
    "            if firstCol != secondCol and firstCol < secondCol:\n",
    "                covar = np.sum((matMean[firstCol] - inputMat[:, firstCol]) * (matMean[secondCol] - inputMat[:, secondCol])) / inputMat.shape[0]\n",
    "                matCovar.append([str(firstCol) + \"-\" + str(secondCol) + \"协方差\", covar])\n",
    "    matCovar = np.array(matCovar)\n",
    "    return matMean, matVar, matCovar"
   ]
  },
  {
   "cell_type": "code",
   "execution_count": 5,
   "id": "ee097d1f",
   "metadata": {},
   "outputs": [
    {
     "name": "stdout",
     "output_type": "stream",
     "text": [
      "数组:\n",
      "[[-0.93520333  0.59418955 -1.88957761]\n",
      " [ 0.59418955 -1.88957761  0.65216644]\n",
      " [-1.88957761  0.65216644  0.29621417]\n",
      " [ 0.65216644  0.29621417 -0.91892941]\n",
      " [ 0.29621417 -0.91892941  0.65946127]\n",
      " [-0.91892941  0.65946127  0.55324251]\n",
      " [ 0.65946127  0.55324251 -0.21372558]\n",
      " [ 0.55324251 -0.21372558  0.70788642]]\n",
      "\n",
      " 均值:\n",
      "[-0.12355455 -0.03336983 -0.01915772]\n",
      "\n",
      " 方差:\n",
      "[0.84681323 0.75734958 0.77660135]\n",
      "\n",
      " 协方差:\n",
      "[['0-1协方差' '-0.4227719715499682']\n",
      " ['0-2协方差' '0.11429238345787136']\n",
      " ['1-2协方差' '-0.36873894038942234']]\n"
     ]
    }
   ],
   "source": [
    "inputMat = generateStats(T=10)\n",
    "matMean, matVar, matCovar = calculateStats(inputMat)\n",
    "print(\"数组:\\n{0}\\n\\n 均值:\\n{1}\\n\\n 方差:\\n{2}\\n\\n 协方差:\\n{3}\".format(inputMat, matMean, matVar, matCovar))"
   ]
  },
  {
   "cell_type": "code",
   "execution_count": 10,
   "id": "88103e91",
   "metadata": {
    "scrolled": false
   },
   "outputs": [
    {
     "name": "stdout",
     "output_type": "stream",
     "text": [
      "[3308, 3376, 3316]\n"
     ]
    }
   ],
   "source": [
    "a = [0] * 3\n",
    "for i in range(10000):\n",
    "    a[np.random.randint(0, 3)] += 1\n",
    "print(a)"
   ]
  },
  {
   "cell_type": "markdown",
   "id": "c8f60128",
   "metadata": {},
   "source": [
    "## 数组生成与排序"
   ]
  },
  {
   "cell_type": "code",
   "execution_count": null,
   "id": "45931284",
   "metadata": {},
   "outputs": [],
   "source": [
    "def matGenerate_Sort(rows=1000, cols=50, range=[0, 3]):\n",
    "    output = np.random.randint(range[0], range[1], (rows, cols))\n",
    "    output = output[np.lexsort((-output[:,1], output[:,0]))]\n",
    "    return output\n",
    "\n",
    "def sortbycols(data, cols, descending)"
   ]
  }
 ],
 "metadata": {
  "kernelspec": {
   "display_name": "Python 3",
   "language": "python",
   "name": "python3"
  },
  "language_info": {
   "codemirror_mode": {
    "name": "ipython",
    "version": 3
   },
   "file_extension": ".py",
   "mimetype": "text/x-python",
   "name": "python",
   "nbconvert_exporter": "python",
   "pygments_lexer": "ipython3",
   "version": "3.8.8"
  }
 },
 "nbformat": 4,
 "nbformat_minor": 5
}
